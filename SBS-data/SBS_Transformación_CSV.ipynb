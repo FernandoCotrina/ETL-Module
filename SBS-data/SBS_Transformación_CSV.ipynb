{
 "cells": [
  {
   "cell_type": "code",
   "execution_count": null,
   "metadata": {},
   "outputs": [],
   "source": [
    "import pandas as pd\n",
    "from functools import reduce"
   ]
  },
  {
   "cell_type": "markdown",
   "metadata": {},
   "source": [
    "Este código tiene el de consolidar datos de los EE.FF. de las siguientes instituciones financieras: Bancas Múltiples, Empresas Financieras y Cajas Rurales, Cajas Municipales.\n",
    "Al consolidarlo podemos realizar un mejor análisis de la evolución de sus cuentas. "
   ]
  },
  {
   "cell_type": "markdown",
   "metadata": {},
   "source": [
    "### Consolidado de todas las bancas por tipo de institución financiera"
   ]
  },
  {
   "cell_type": "code",
   "execution_count": null,
   "metadata": {},
   "outputs": [
    {
     "name": "stdout",
     "output_type": "stream",
     "text": [
      "Consolidación completada. Los datos se han guardado en 'consolidado_33.xlsx'.\n"
     ]
    }
   ],
   "source": [
    "\n",
    "# Definir las cuentas importantes\n",
    "cuentas_importantes = {\n",
    "    'DISPONIBLE', 'INVERSIONES NETAS DE PROVISIONES ', 'CRÉDITOS NETOS DE PROVISIONES ', 'CUENTAS POR COBRAR NETAS DE PROVISIONES', 'TOTAL ACTIVO', 'OBLIGACIONES CON EL PÚBLICO',\n",
    "    'DEPÓSITOS DEL SISTEMA FINANCIERO Y ORGANISMOS INTERNACIONALES', 'ADEUDOS Y OBLIGACIONES  FINANCIERAS', 'TOTAL PASIVO', 'PATRIMONIO', 'TOTAL PASIVO Y PATRIMONIO',\n",
    "    'INGRESOS FINANCIEROS ', 'GASTOS FINANCIEROS ', 'MARGEN FINANCIERO NETO', 'RESULTADO NETO DEL EJERCICIO', '   Atrasados'\n",
    "}\n",
    "\n",
    "# Ruta del archivo de entrada\n",
    "archivo_entrada = \"banca_multiple.xlsx\"\n",
    "\n",
    "# Leer todas las hojas del archivo de Excel\n",
    "hojas = pd.read_excel(archivo_entrada, sheet_name=None, header=None)\n",
    "\n",
    "# Crear un DataFrame vacío para el consolidado\n",
    "consolidado = pd.DataFrame()\n",
    "\n",
    "# Procesar cada hoja\n",
    "for nombre_hoja, df in hojas.items():\n",
    "    # Extraer las fechas de la fila 4 (índice 3)\n",
    "    fechas = df.iloc[4, 1:].tolist()  # Con el excel de rural cambiar 4 por 3\n",
    "    \n",
    "    # Propagar las fechas hacia la derecha\n",
    "    fechas_propagadas = []\n",
    "    fecha_actual = None\n",
    "    for fecha in fechas:\n",
    "        if pd.notna(fecha):  # Si la celda tiene una fecha\n",
    "            fecha_actual = fecha\n",
    "        fechas_propagadas.append(fecha_actual)\n",
    "    \n",
    "    # Filtrar solo las columnas donde la fila siguiente contenga \"Total\"\n",
    "    columnas_total = [0] + [i+1 for i in range(len(fechas_propagadas)) if \"TOTAL\" in str(df.iloc[5, i+1])]  # Con el excel de rural cambiar 5 por 4\n",
    "    df = df.iloc[:, columnas_total]\n",
    "    \n",
    "    # Asignar las fechas propagadas solo a las columnas seleccionadas\n",
    "    fechas_filtradas = [\"Cuenta\"] + [fechas_propagadas[i-1] for i in columnas_total[1:]]\n",
    "    df.columns = fechas_filtradas\n",
    "    \n",
    "    # Filtrar las filas que corresponden a las cuentas importantes (a partir de la fila 5)\n",
    "    df_filtrado = df[df.iloc[:, 0].isin(cuentas_importantes)]\n",
    "    \n",
    "    # Agregar una columna con el nombre de la banca\n",
    "    df_filtrado.insert(0, \"entidad\", nombre_hoja)\n",
    "    \n",
    "    # Concatenar al DataFrame consolidado\n",
    "    consolidado = pd.concat([consolidado, df_filtrado], ignore_index=True)\n",
    "\n",
    "# Ruta del archivo de salida\n",
    "archivo_salida = \"consolidado_banca_multiple.xlsx\"\n",
    "\n",
    "# Guardar el consolidado en un nuevo archivo de Excel\n",
    "consolidado.to_excel(archivo_salida, index=False)\n",
    "\n",
    "print(f\"Consolidación completada. Los datos se han guardado en '{archivo_salida}'.\")"
   ]
  },
  {
   "cell_type": "markdown",
   "metadata": {},
   "source": [
    "** Utilizar si se tiene datos de fechas pasadas a 2013"
   ]
  },
  {
   "cell_type": "code",
   "execution_count": null,
   "metadata": {},
   "outputs": [],
   "source": [
    "# Lista de archivos a procesar\n",
    "archivos = [\"consolidado_banca_multiple_04.xlsx\", \"consolidado_banca_multiple_08.xlsx\", \"consolidado_banca_multiple_13.xlsx\", 'consolidado_banca_multiple_19.xlsx']\n",
    "\n",
    "# Leer y almacenar los DataFrames\n",
    "dataframes = [pd.read_excel(archivo, sheet_name=0) for archivo in archivos]\n",
    "\n",
    "# Hacer el merge progresivamente asegurando que las fechas se unan correctamente\n",
    "df_final = reduce(lambda left, right: pd.merge(left, right, on=[\"Banca_multiple\", \"Cuenta\"], how=\"outer\"), dataframes)\n",
    "\n",
    "# Renombrar columnas\n",
    "df_final.rename(columns={\"Banca_multiple\": \"entidad\", \"Cuenta\": \"cuenta\"}, inplace=True)\n",
    "\n",
    "# Agregar la nueva columna 'tipo_institucion' al inicio\n",
    "df_final.insert(0, \"tipo_institucion\", \"Empresas Financieras\")\n",
    "\n",
    "# Ordenar las columnas de fechas\n",
    "columnas_fijas = [\"tipo_institucion\", \"entidad\", \"cuenta\"]\n",
    "columnas_fechas = sorted([col for col in df_final.columns if col not in columnas_fijas], key=lambda x: pd.to_datetime(x, format=\"%m-%Y\", errors=\"coerce\"))\n",
    "\n",
    "# Reorganizar el DataFrame con las fechas ordenadas\n",
    "df_final = df_final[columnas_fijas + columnas_fechas]\n",
    "\n",
    "# Guardar el archivo final con la estructura corregida\n",
    "df_final.to_excel(\"consolidado_banca_multiple.xlsx\", index=False)\n",
    "\n",
    "print(f\"Consolidación completada.\")"
   ]
  },
  {
   "cell_type": "markdown",
   "metadata": {},
   "source": [
    "### Consolidado Final"
   ]
  },
  {
   "cell_type": "code",
   "execution_count": null,
   "metadata": {},
   "outputs": [],
   "source": [
    "# Lista de archivos a consolidar\n",
    "archivos = [\"consolidado_banca_multiple.xlsx\", \"consolidado_financieras.xlsx\", \"consolidado_rural.xlsx\", \"consolidado_municipal.xlsx\"]\n",
    "\n",
    "# Leer y combinar todos los DataFrames\n",
    "df_consolidado = pd.concat([pd.read_excel(archivo) for archivo in archivos], ignore_index=True)\n",
    "\n",
    "# Guardar el archivo consolidado\n",
    "df_consolidado.to_excel(\"data_final.xlsx\", index=False)\n",
    "\n",
    "print(f\"Consolidación completada.\")"
   ]
  },
  {
   "cell_type": "markdown",
   "metadata": {},
   "source": [
    "### Transformación a CSV (Para analizarlo más fácil)"
   ]
  },
  {
   "cell_type": "code",
   "execution_count": null,
   "metadata": {},
   "outputs": [],
   "source": [
    "# Importar el archivo consolidado\n",
    "archivo = \"data_final.xlsx\"\n",
    "df = pd.read_excel(archivo)\n",
    "\n",
    "# Transformar de formato ancho (wide) a largo (long)\n",
    "df_long = df.melt(id_vars=[\"tipo_institucion\", \"entidad\", \"cuenta\"], \n",
    "                  var_name=\"fecha\", \n",
    "                  value_name=\"monto\")\n",
    "\n",
    "# Reorganizar en formato final para Stata\n",
    "df_final = df_long.pivot_table(index=[\"tipo_institucion\", \"entidad\", \"fecha\"], \n",
    "                               columns=\"cuenta\", \n",
    "                               values=\"monto\").reset_index()\n",
    "\n",
    "# Renombrar columnas si es necesario\n",
    "df_final.columns.name = None  # Eliminar el nombre de la columna de índices\n",
    "\n",
    "# Guardar en formato CSV para Stata\n",
    "df_final.to_csv(\"data_csv.csv\", index=False)\n",
    "\n",
    "print(\"Transformación completa. Archivo listo para Analizar.\")"
   ]
  }
 ],
 "metadata": {
  "kernelspec": {
   "display_name": "Python 3",
   "language": "python",
   "name": "python3"
  },
  "language_info": {
   "codemirror_mode": {
    "name": "ipython",
    "version": 3
   },
   "file_extension": ".py",
   "mimetype": "text/x-python",
   "name": "python",
   "nbconvert_exporter": "python",
   "pygments_lexer": "ipython3",
   "version": "3.13.1"
  }
 },
 "nbformat": 4,
 "nbformat_minor": 2
}
