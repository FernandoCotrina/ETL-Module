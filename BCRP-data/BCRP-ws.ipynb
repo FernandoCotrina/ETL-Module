{
 "cells": [
  {
   "cell_type": "markdown",
   "id": "dfdabdb4",
   "metadata": {},
   "source": [
    "# Extracción de Series de Indicadores del BCRP\n",
    "\n",
    "#### Este script permite extraer series de datos del Banco Central de Reserva del Perú (BCRP) en formato CSV."
   ]
  },
  {
   "cell_type": "code",
   "execution_count": null,
   "id": "b1e28985",
   "metadata": {},
   "outputs": [],
   "source": [
    "import requests\n",
    "import pandas as pd\n",
    "\n",
    "def bcrp_data(indicadores, inicio, fin):\n",
    "    # Crear un DataFrame vacío para almacenar todos los datos\n",
    "    df_completo = pd.DataFrame()\n",
    "\n",
    "    for indicador in indicadores:\n",
    "        # Establecer consulta para cada indicador\n",
    "        periodo = '/' + inicio + '/' + fin\n",
    "        url = 'https://estadisticas.bcrp.gob.pe/estadisticas/series/api/' + indicador + '/json' + periodo\n",
    "        \n",
    "        # Consulta de datos\n",
    "        serie_api = requests.get(url)\n",
    "        serie_json = serie_api.json()\n",
    "        \n",
    "        # Obtener el nombre de la serie\n",
    "        serie_name = serie_json.get('config')['series'][0]['name']\n",
    "        \n",
    "        # Obtener los períodos y los valores\n",
    "        periodos = serie_json.get('periods')\n",
    "        \n",
    "        valores = []\n",
    "        for p in periodos:\n",
    "            values = p['values']\n",
    "            for v in values:\n",
    "                v = float(v)\n",
    "                valores.append(v)\n",
    "        fechas = []\n",
    "        for p in periodos:\n",
    "            name = p['name']\n",
    "            fechas.append(name)\n",
    "\n",
    "        # Crear un DataFrame para el indicador actual\n",
    "        serie_dic = {\"Fecha\": fechas, str(serie_name): valores}\n",
    "        serie_df = pd.DataFrame(serie_dic)\n",
    "        \n",
    "        # Unir el DataFrame de este indicador con el DataFrame completo\n",
    "        if df_completo.empty:\n",
    "            df_completo = serie_df\n",
    "        else:\n",
    "            df_completo = pd.merge(df_completo, serie_df, on=\"Fecha\", how=\"outer\")\n",
    "    \n",
    "    return df_completo\n"
   ]
  },
  {
   "cell_type": "markdown",
   "id": "d7d81c43",
   "metadata": {},
   "source": [
    "Ajuste la lista de indicadores y los periodos que usted quiera"
   ]
  },
  {
   "cell_type": "code",
   "execution_count": null,
   "id": "bf09aa4b",
   "metadata": {},
   "outputs": [
    {
     "name": "stdout",
     "output_type": "stream",
     "text": [
      "Datos guardados\n"
     ]
    }
   ],
   "source": [
    "# Parámetros de la consulta\n",
    "fecha_inicio = '2017-01'\n",
    "fecha_fin = '2022-08'\n",
    "indicadores = ['RD38137BM', 'PD31895MM', 'PN01770AM']\n",
    "\n",
    "# Llamada a la función\n",
    "data = bcrp_data(indicadores, fecha_inicio, fecha_fin)\n",
    "\n",
    "# Guardar CSV\n",
    "data.to_csv('data/BCRP_data.csv', index=False)\n",
    "\n",
    "print('Datos guardados')"
   ]
  }
 ],
 "metadata": {
  "kernelspec": {
   "display_name": "Python 3",
   "language": "python",
   "name": "python3"
  },
  "language_info": {
   "codemirror_mode": {
    "name": "ipython",
    "version": 3
   },
   "file_extension": ".py",
   "mimetype": "text/x-python",
   "name": "python",
   "nbconvert_exporter": "python",
   "pygments_lexer": "ipython3",
   "version": "3.13.1"
  }
 },
 "nbformat": 4,
 "nbformat_minor": 5
}
