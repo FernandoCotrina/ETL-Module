{
 "cells": [
  {
   "cell_type": "markdown",
   "id": "dfdabdb4",
   "metadata": {},
   "source": [
    "# Extracción de Series de Indicadores del BCRP\n",
    "\n",
    "#### Este script permite extraer series de datos del Banco Central de Reserva del Perú (BCRP) en formato CSV mediante web scraping."
   ]
  },
  {
   "cell_type": "code",
   "execution_count": null,
   "id": "d5d42a7f",
   "metadata": {},
   "outputs": [],
   "source": [
    "import pandas as pd\n",
    "import requests\n",
    "import re\n",
    "from bs4 import BeautifulSoup\n",
    "\n",
    "# Diccionario de conversión de meses\n",
    "MESES = {\n",
    "    'Ene': '01', 'Feb': '02', 'Mar': '03', 'Abr': '04',\n",
    "    'May': '05', 'Jun': '06', 'Jul': '07', 'Ago': '08',\n",
    "    'Sep': '09', 'Oct': '10', 'Nov': '11', 'Dic': '12'\n",
    "}\n",
    "\n",
    "def convertir_fecha(fecha: str) -> str:\n",
    "    '''Convierte fechas del formato 'Mes.Año' al formato '01/mm/aaaa'.'''\n",
    "    mes, anio = fecha.split('.')\n",
    "    return f'01/{MESES.get(mes, '01')}/{anio}'\n",
    "\n",
    "def obtener_indicador_bcrp(codigo: str, nombre_columna: str, inicio: str, fin: str) -> pd.DataFrame:\n",
    "    '''\n",
    "    Extrae una serie del BCRP API y devuelve un DataFrame.\n",
    "    \n",
    "    Parámetros:\n",
    "        codigo: Código de la serie (ej. 'PN01770AM').\n",
    "        nombre_columna: Nombre que tendrá la columna de valores.\n",
    "        inicio: Fecha de inicio (ej. '2018-01').\n",
    "        fin: Fecha de fin (ej. '2023-12').\n",
    "\n",
    "    Retorna:\n",
    "        DataFrame con columnas ['Fecha', nombre_columna]\n",
    "    '''\n",
    "    url = f'https://estadisticas.bcrp.gob.pe/estadisticas/series/api/{codigo}/csv/{inicio}/{fin}'\n",
    "    response = requests.get(url)\n",
    "\n",
    "    if response.status_code != 200:\n",
    "        print(f'Error al descargar {codigo}: {response.status_code}')\n",
    "        return None\n",
    "\n",
    "    soup = BeautifulSoup(response.text, 'html.parser')\n",
    "    texto = soup.get_text()\n",
    "\n",
    "    pattern = r'\"(.*?)\",\"(.*?)\"'\n",
    "    matches = re.findall(pattern, texto)\n",
    "\n",
    "    data = [{'Fecha': convertir_fecha(fecha), nombre_columna: float(valor)} for fecha, valor in matches]\n",
    "    return pd.DataFrame(data)\n",
    "\n",
    "def combinar_series(indicadores: list, inicio: str, fin: str) -> pd.DataFrame:\n",
    "    '''\n",
    "    Combina múltiples indicadores en un solo DataFrame.\n",
    "\n",
    "    Parámetros:\n",
    "        indicadores: Lista de tuplas (nombre_columna, codigo_bcrp)\n",
    "        inicio: Fecha inicial (ej. '2018-01')\n",
    "        fin: Fecha final (ej. '2023-12')\n",
    "    \n",
    "    Retorna:\n",
    "        DataFrame combinado.\n",
    "    '''\n",
    "    df_final = None\n",
    "\n",
    "    for nombre, codigo in indicadores:\n",
    "        df = obtener_indicador_bcrp(codigo, nombre, inicio, fin)\n",
    "        if df is not None:\n",
    "            if df_final is None:\n",
    "                df_final = df\n",
    "            else:\n",
    "                df_final = df_final.merge(df, on='Fecha', how='outer')\n",
    "    \n",
    "    return df_final\n"
   ]
  },
  {
   "cell_type": "markdown",
   "id": "02de83a4",
   "metadata": {},
   "source": [
    "Ajuste la lista de indicadores y los periodos que usted quiera"
   ]
  },
  {
   "cell_type": "code",
   "execution_count": null,
   "id": "f5b60fe7",
   "metadata": {},
   "outputs": [
    {
     "name": "stdout",
     "output_type": "stream",
     "text": [
      "Datos guardados en 'data/BCRP_Indicadores.csv'\n"
     ]
    }
   ],
   "source": [
    "# Lista de indicadores: (nombre_columna, código_bcrp)\n",
    "indicadores = [\n",
    "    ('Nombre1', 'Código1'),\n",
    "    ('Nombre3', \"Código3\"),\n",
    "]\n",
    "\n",
    "# Parámetros de período\n",
    "inicio = '2018-01'\n",
    "fin = '2023-12'\n",
    "\n",
    "# Obtener DataFrame combinado\n",
    "df_completo = combinar_series(indicadores, inicio, fin)\n",
    "\n",
    "# Guardar CSV\n",
    "df_completo.to_csv('data/BCRP_data.csv', index=False)\n",
    "print('Datos guardados en 'data/BCRP_data.csv'')"
   ]
  }
 ],
 "metadata": {
  "kernelspec": {
   "display_name": "Python 3",
   "language": "python",
   "name": "python3"
  },
  "language_info": {
   "codemirror_mode": {
    "name": "ipython",
    "version": 3
   },
   "file_extension": ".py",
   "mimetype": "text/x-python",
   "name": "python",
   "nbconvert_exporter": "python",
   "pygments_lexer": "ipython3",
   "version": "3.13.1"
  }
 },
 "nbformat": 4,
 "nbformat_minor": 5
}
